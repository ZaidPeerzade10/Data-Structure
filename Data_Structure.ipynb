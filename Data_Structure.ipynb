{
  "nbformat": 4,
  "nbformat_minor": 0,
  "metadata": {
    "colab": {
      "provenance": []
    },
    "kernelspec": {
      "name": "python3",
      "display_name": "Python 3"
    },
    "language_info": {
      "name": "python"
    }
  },
  "cells": [
    {
      "cell_type": "markdown",
      "source": [
        "# Theory Questions"
      ],
      "metadata": {
        "id": "-e4qho78Tm93"
      }
    },
    {
      "cell_type": "markdown",
      "source": [
        "1. What are data structures, and why are they important?\n",
        "   - Data structures can be considered organized formats for storing data in different ways, they can be said to be containers that hold the data and determine how to interact with it.\n",
        "   - Using the right data structure will make the program and data more efficient in organising, storing, and accessing collections of information, Simplify data manipulation, Optimize searching and sorting operations, and Conserve memory usage.\n"
      ],
      "metadata": {
        "id": "OVvZ-LPvTx0r"
      }
    },
    {
      "cell_type": "markdown",
      "source": [
        "2.  Explain the difference between mutable and immutable data types with examples.\n",
        "    - Mutable data types can be modified after they are created. When the mutable data type is changed it modifies the original object.\n",
        "    - Example : list, set, dictionary.\n",
        "    - Immutable data types cannot be modified after they are created. when the immutable  data type is changed it does not modify the original object instead it creates a new object.\n",
        "    - Example : tuple, string, integer, frozen set.\n"
      ],
      "metadata": {
        "id": "fq1EHf5_gABT"
      }
    },
    {
      "cell_type": "markdown",
      "source": [
        "3. What are the main differences between lists and tuples in Python?\n",
        "  - Lists are created using \"[ ]\" brackets.\n",
        "  - Lists are mutable data type, which means it can be modified once they are created.\n",
        "  - When list is modified its original object itself will be modified.\n",
        "  - Lists are slower than tuple for iteration and access becuse of their mutable characterstics\n",
        "  - Lists use more memory than tuples.\n",
        "  - Tuples are created using \"( )\" brackets\n",
        "  - Tuples are immutable data type, which mean they cannot be modified once they are created.\n",
        "  - When tuple is modified, a new object is created instead.\n",
        "  - Tuple are faster than list for iteration and access becuse of thier immutable characterstics\n",
        "  - Tuple use less memory than list.\n"
      ],
      "metadata": {
        "id": "cPoeW-oQkQKC"
      }
    },
    {
      "cell_type": "markdown",
      "source": [
        "4. Describe how dictionaries store data.\n",
        "   - Dictionaries store data in key, value pairs in which key acts as a unique identifier for retrieving an associated value.\n",
        "   - Dictionaries stores data in this format : dict(key: value,key1: value1)\n",
        "   -  Keys and values can be of many different data types\n",
        "   - Dictionary stores data in a unordered collection manner ehich means, they are not in any specif order.\n",
        "   - There are many operation used to acces, store, manipulate dictionaries."
      ],
      "metadata": {
        "id": "I7HmS3QcmWlN"
      }
    },
    {
      "cell_type": "markdown",
      "source": [
        "5. Why might you use a set instead of a list in Python?\n",
        "   - When you need to have no duplicate values\n",
        "   - When you want to use set operations on values such as, union, difference, symmetric, intersection.\n",
        "   - If you want to check membership of the value fast, in set because of hashtable implimentation checking the membership of a value is faster than list.\n",
        "   - Adding and removing the values is much faster in set due to hashtable implimentation."
      ],
      "metadata": {
        "id": "SGsVTc6bn3tt"
      }
    },
    {
      "cell_type": "markdown",
      "source": [
        "6. What is a string in Python, and how is it different from a list?\n",
        "   - String is a sequence of characters. it is immutable means it cannot be changed after creation.\n",
        "   - String can be said as a collection of characters which can be accesed with indexing.\n",
        "   - String and list are both a collection of elements but they have different characterstics, cases, term of types, behavior, etc.\n",
        "   - String is specially a collection of character(text), whereas lis can store any type of data.\n",
        "   - String is immutable, whereas list are mutable."
      ],
      "metadata": {
        "id": "Ci2irh7-apwd"
      }
    },
    {
      "cell_type": "markdown",
      "source": [
        "7. How do tuples ensure data integrity in Python?\n",
        "   - Tuples are immutable and this immutability nature is the key feature of tuple to ensure the data integrity.\n",
        "   - Since the tuple is immutable than mean once its created it cannot be changed.\n",
        "   - This immutablity nature prevents accidental data midification or ensure the data integrity.\n",
        "   "
      ],
      "metadata": {
        "id": "RA07CDm6c2bw"
      }
    },
    {
      "cell_type": "markdown",
      "source": [
        "8. What is a hash table, and how does it relate to dictionaries in Python?\n",
        "   - Hash table is a data structure that allows for efficient data key-value pair storage , lookups, insertion and deletion,\n",
        "   - Dictionaries in python are built on hash table struction which allows the dictionaries for fas access and manipulation of data.\n",
        "   "
      ],
      "metadata": {
        "id": "V5N_FBzheuCQ"
      }
    },
    {
      "cell_type": "markdown",
      "source": [
        "9. Can lists contain different data types in Python?\n",
        "   - Yes, list can contain different data types in python.\n",
        "   - Such as strings, numbers, other lists, objects, etc."
      ],
      "metadata": {
        "id": "aLLDi3Ongonw"
      }
    },
    {
      "cell_type": "markdown",
      "source": [
        "10. Explain why strings are immutable in Python.\n",
        "    - Since string cannot be changed or modified once it is created they are immutable\n",
        "    - Strings immutabilty comes with lots of advantages such as simplicity, consistancy, efficient memory management.\n",
        "    "
      ],
      "metadata": {
        "id": "XHdUUZUfhYSV"
      }
    },
    {
      "cell_type": "markdown",
      "source": [
        "11. What advantages do dictionaries offer over lists for certain tasks?\n",
        "    - There are many advantages the dictionaries offer over list for certain tasks cause of its structure.\n",
        "    - Dictionaries provides faster lookup than lists with a time complexity of O(1), whereas lists are slow to find a element by a value giving complexity of O(n)\n",
        "    - Dictionaries store data in paise of key and value, making it ideal for tasks which need to be in pais like name, age, id etc.\n",
        "    - Keys in dictionaries are unique preventing duplication\n",
        "    - Dictionaries excel when you need to quickly search, update, and organize data with specific identifiers (keys), while lists are better for maintaining an ordered collection of elements."
      ],
      "metadata": {
        "id": "bLKOBIzaiPJw"
      }
    },
    {
      "cell_type": "markdown",
      "source": [
        "12. Describe a scenario where using a tuple would be preferable over a list.\n",
        "    - Tuples are immutable whereas lists are mutable, means their values cannot be altered once they are create.\n",
        "    - This helps in task that needs to have fixed value such as coordinates of a location, etc.\n",
        "    - Becuase of immutubility tuple are more efficient in operations like iteration and memory usage."
      ],
      "metadata": {
        "id": "HE2LuQ5oKrc_"
      }
    },
    {
      "cell_type": "markdown",
      "source": [
        "13. How do sets handle duplicate values in Python?\n",
        "    - Sets handles duplicate values by deleting them. Set automatically deletes any value that is duplecate.\n",
        "    - Set is a collection of unique items, which means it doesn't allow duplicate items.\n",
        "    - If we add a duplicate value in set it simply avoids it and not include it.\n"
      ],
      "metadata": {
        "id": "KBAlrtfpNAYq"
      }
    },
    {
      "cell_type": "markdown",
      "source": [
        "14. How does the “in” keyword work differently for lists and dictionaries?\n",
        "    - The \"in\" keyword used on list checks if the value is in the list.meaning it will scan through each value and in list and check if it exists.\n",
        "    -  This process takes O(n) time complexity.\n",
        "    - The \"in\" keywords in used on dictionaries checks the keys in dictionary not the value.\n",
        "    - This process takes O(1) time coplexity because dictionaries are based on hashtable.\n"
      ],
      "metadata": {
        "id": "bY3KhMwKOc1J"
      }
    },
    {
      "cell_type": "markdown",
      "source": [
        "15. Can you modify the elements of a tuple? Explain why or why not.\n",
        "    - No, we cannot modify element of a tuple once the tuple is already created.\n",
        "    - This is becuase of the immutable nature of tuple making it unable to alter once the tuple is created.\n",
        "    \n"
      ],
      "metadata": {
        "id": "D2zpg2RRRNEk"
      }
    },
    {
      "cell_type": "markdown",
      "source": [
        "16. What is a nested dictionary, and give an example of its use case?\n",
        "    - A nested dictionary is a dictionary where one or more of the values are dictionaries itself. This allows to store more complex data structures and create hierarchical relationships within data."
      ],
      "metadata": {
        "id": "SHd7dcL9RvyC"
      }
    },
    {
      "cell_type": "markdown",
      "source": [
        "17. Describe the time complexity of accessing elements in a dictionary.\n",
        "    - The time complexity of accessing element in dictionary is O(1).\n",
        "    - Dictionary lookups are constatnt time operation, since dictionaring are implemented on hashtable.\n"
      ],
      "metadata": {
        "id": "_tibPc49SEQd"
      }
    },
    {
      "cell_type": "markdown",
      "source": [
        "18. In what situations are lists preferred over dictionaries?\n",
        "    - Lists are preferred over dictionaries in situations where we need an ordered collection of items and the focus is on sequential access rather than mapping unique keys to values.\n",
        "    - Situations where are lists preferred over dictionaries are:\n",
        "    - Where order of the collection of elements are more necessary.\n",
        "    - Where we need a simple colection of items\n",
        "    - Where we need to store duplicate calues.\n",
        "    - Where we need to use indexed acess to the values."
      ],
      "metadata": {
        "id": "FbXaAHsvSrqJ"
      }
    },
    {
      "cell_type": "markdown",
      "source": [
        "19. Why are dictionaries considered unordered, and how does that affect data retrieval?\n",
        "    - Dictionaries are considered unordered because the elements in a dictionary are not stored in a specific order. This unordered nature is a result of how dictionaries are implemented using hash tables, which optimize the process of retrieving data quickly by associating keys with hash values, but without any order of the elements.\n"
      ],
      "metadata": {
        "id": "nQYCRoSdUah2"
      }
    },
    {
      "cell_type": "markdown",
      "source": [
        "20. Explain the difference between a list and a dictionary in terms of data retrieval.\n",
        "    - A list retrieves data by index and maintains an ordered sequence, while a dictionary retrieves data by key using a hash table for fast, constant-time lookups.\n"
      ],
      "metadata": {
        "id": "SrKvambAVQ1c"
      }
    },
    {
      "cell_type": "markdown",
      "source": [
        "#Practical Questions"
      ],
      "metadata": {
        "id": "nzwOCdOECLDs"
      }
    },
    {
      "cell_type": "code",
      "source": [
        "# 1. Write a code to create a string with your name and print it\n",
        "name = input(\"Enter your name: \")\n",
        "print(name)\n"
      ],
      "metadata": {
        "id": "t13HlRE_V0FW",
        "colab": {
          "base_uri": "https://localhost:8080/"
        },
        "outputId": "d03bd594-ea49-4892-c901-3bb3ee9002b0"
      },
      "execution_count": null,
      "outputs": [
        {
          "output_type": "stream",
          "name": "stdout",
          "text": [
            "Enter your name: zaid\n",
            "zaid\n"
          ]
        }
      ]
    },
    {
      "cell_type": "code",
      "source": [
        "#2. Write a code to find the length of the string \"Hello World\".\n",
        "str1 = \"Hello World\"\n",
        "print(len(str1))"
      ],
      "metadata": {
        "colab": {
          "base_uri": "https://localhost:8080/"
        },
        "id": "EpI5h-ezGrJS",
        "outputId": "24e24de4-7b81-4914-bd35-0b088dec322c"
      },
      "execution_count": null,
      "outputs": [
        {
          "output_type": "stream",
          "name": "stdout",
          "text": [
            "11\n"
          ]
        }
      ]
    },
    {
      "cell_type": "code",
      "source": [
        "#3. Write a code to slice the first 3 characters from the string \"Python Programming\".\n",
        "str2 = \"Python Programming\"\n",
        "slice_str = str2[:3]\n",
        "print(slice_str)"
      ],
      "metadata": {
        "colab": {
          "base_uri": "https://localhost:8080/"
        },
        "id": "S_8mhP_yG6yi",
        "outputId": "adb93ffc-f983-40c0-dd13-03d000e24595"
      },
      "execution_count": null,
      "outputs": [
        {
          "output_type": "stream",
          "name": "stdout",
          "text": [
            "Pyt\n"
          ]
        }
      ]
    },
    {
      "cell_type": "code",
      "source": [
        "#4. Write a code to convert the string \"hello\" to uppercase.\n",
        "str3 = \"hello\"\n",
        "uppercase_str = str3.upper()\n",
        "print(uppercase_str)"
      ],
      "metadata": {
        "colab": {
          "base_uri": "https://localhost:8080/"
        },
        "id": "mPaXikWDHVlx",
        "outputId": "e6a3cc07-0b1a-4083-f0a1-0d59ab6eca2e"
      },
      "execution_count": null,
      "outputs": [
        {
          "output_type": "stream",
          "name": "stdout",
          "text": [
            "HELLO\n"
          ]
        }
      ]
    },
    {
      "cell_type": "code",
      "source": [
        "#5. Write a code to replace the word \"apple\" with \"orange\" in the string \"I like apple\".\n",
        "str4 = \"I like apple\"\n",
        "str5 = str4.replace(\"apple\",\"orange\")\n",
        "print(str5)"
      ],
      "metadata": {
        "colab": {
          "base_uri": "https://localhost:8080/"
        },
        "id": "48Pl_etOHzeQ",
        "outputId": "221bece8-091c-45ac-b371-9e92d14fc1ce"
      },
      "execution_count": null,
      "outputs": [
        {
          "output_type": "stream",
          "name": "stdout",
          "text": [
            "I like orange\n"
          ]
        }
      ]
    },
    {
      "cell_type": "code",
      "source": [
        "#6. Write a code to create a list with numbers 1 to 5 and print it.\n",
        "numbers = [1, 2, 3, 4, 5]\n",
        "print(numbers)"
      ],
      "metadata": {
        "id": "9lwZp-WmKFS7"
      },
      "execution_count": null,
      "outputs": []
    },
    {
      "cell_type": "code",
      "source": [
        "#7. Write a code to append the number 10 to the list [1, 2, 3, 4].\n",
        "num = [1, 2, 3, 4]\n",
        "num.append(5)\n",
        "print(num)"
      ],
      "metadata": {
        "colab": {
          "base_uri": "https://localhost:8080/"
        },
        "id": "89w4LrJIKehm",
        "outputId": "395808a7-a414-44ea-aaeb-3210f9fc6885"
      },
      "execution_count": null,
      "outputs": [
        {
          "output_type": "stream",
          "name": "stdout",
          "text": [
            "[1, 2, 3, 4, 5]\n"
          ]
        }
      ]
    },
    {
      "cell_type": "code",
      "source": [
        "#8 Write a code to remove the number 3 from the list [1, 2, 3, 4, 5].\n",
        "num1 = [1, 2, 3, 4, 5]\n",
        "num1.remove(3)\n",
        "print(num1)"
      ],
      "metadata": {
        "colab": {
          "base_uri": "https://localhost:8080/"
        },
        "id": "mwQgh8EKKyX_",
        "outputId": "40c80f74-646f-4483-c102-3ea2faaca833"
      },
      "execution_count": null,
      "outputs": [
        {
          "output_type": "stream",
          "name": "stdout",
          "text": [
            "[1, 2, 4, 5]\n"
          ]
        }
      ]
    },
    {
      "cell_type": "code",
      "source": [
        "#9. Write a code to access the second element in the list ['a', 'b', 'c', 'd'].\n",
        "l1 = ['a', 'b', 'c', 'd']\n",
        "x = l1[1]\n",
        "print(x)"
      ],
      "metadata": {
        "colab": {
          "base_uri": "https://localhost:8080/"
        },
        "id": "Tj_9w8SYLD7f",
        "outputId": "297c7bc2-5d3f-4c52-ebb0-785bc5f55a6b"
      },
      "execution_count": null,
      "outputs": [
        {
          "output_type": "stream",
          "name": "stdout",
          "text": [
            "b\n"
          ]
        }
      ]
    },
    {
      "cell_type": "code",
      "source": [
        "#10. Write a code to reverse the list [10, 20, 30, 40, 50].\n",
        "l2 = [10, 20, 30, 40, 50]\n",
        "l2.reverse()\n",
        "print(l2)"
      ],
      "metadata": {
        "colab": {
          "base_uri": "https://localhost:8080/"
        },
        "id": "Xqe2cmVyLW2i",
        "outputId": "a32fee28-bb3a-448b-e142-02f568e16b37"
      },
      "execution_count": null,
      "outputs": [
        {
          "output_type": "stream",
          "name": "stdout",
          "text": [
            "[50, 40, 30, 20, 10]\n"
          ]
        }
      ]
    },
    {
      "cell_type": "code",
      "source": [
        "#11. Write a code to create a tuple with the elements 100, 200, 300 and print it.\n",
        "tupl = (100,200,300)\n",
        "print(tupl)"
      ],
      "metadata": {
        "colab": {
          "base_uri": "https://localhost:8080/"
        },
        "id": "ShqdPdhaLoNO",
        "outputId": "bf535aad-b292-4318-8ed7-9a9d31796cff"
      },
      "execution_count": null,
      "outputs": [
        {
          "output_type": "stream",
          "name": "stdout",
          "text": [
            "(100, 200, 300)\n"
          ]
        }
      ]
    },
    {
      "cell_type": "code",
      "source": [
        "#12. Write a code to access the second-to-last element of the tuple ('red', 'green', 'blue', 'yellow').\n",
        "tupl1 = ('red', 'green', 'blue', 'yellow')\n",
        "x = tupl1[-2]\n",
        "print(x)"
      ],
      "metadata": {
        "colab": {
          "base_uri": "https://localhost:8080/"
        },
        "id": "AbO6h23aL7FL",
        "outputId": "24bfa215-a052-49fa-f560-a38c1ce5a72e"
      },
      "execution_count": null,
      "outputs": [
        {
          "output_type": "stream",
          "name": "stdout",
          "text": [
            "blue\n"
          ]
        }
      ]
    },
    {
      "cell_type": "code",
      "source": [
        "#13. Write a code to find the minimum number in the tuple (10, 20, 5, 15).\n",
        "tupl2 = (10, 20, 5, 15)\n",
        "min_num = min(tupl2)\n",
        "print(min_num)"
      ],
      "metadata": {
        "colab": {
          "base_uri": "https://localhost:8080/"
        },
        "id": "BSnZYYNaMVjZ",
        "outputId": "083cd45c-7863-4a1b-8384-0c26484a2f60"
      },
      "execution_count": null,
      "outputs": [
        {
          "output_type": "stream",
          "name": "stdout",
          "text": [
            "5\n"
          ]
        }
      ]
    },
    {
      "cell_type": "code",
      "source": [
        "#14. Write a code to find the index of the element \"cat\" in the tuple ('dog', 'cat', 'rabbit').\n",
        "tupl3 = ('dog', 'cat', 'rabbit')\n",
        "index_cat = tupl3.index('cat')\n",
        "print(index_cat)"
      ],
      "metadata": {
        "colab": {
          "base_uri": "https://localhost:8080/"
        },
        "id": "1DGbi9A4QCom",
        "outputId": "0405b22e-fe6b-40b7-b0af-dc9995394533"
      },
      "execution_count": null,
      "outputs": [
        {
          "output_type": "stream",
          "name": "stdout",
          "text": [
            "1\n"
          ]
        }
      ]
    },
    {
      "cell_type": "code",
      "source": [
        "#15. Write a code to create a tuple containing three different fruits and check if \"kiwi\" is in it.\n",
        "tupl4 = (\"apple\", \"kiwi\", \"mango\")\n",
        "if \"kiwi\" in tupl4:\n",
        "  print(\"Its in tuple\")\n",
        "else:\n",
        "  print(\"Not in tuple\")"
      ],
      "metadata": {
        "colab": {
          "base_uri": "https://localhost:8080/"
        },
        "id": "ZsMKV-KaQj8K",
        "outputId": "12d8287b-3261-4cd0-edaf-93fe77c13710"
      },
      "execution_count": null,
      "outputs": [
        {
          "output_type": "stream",
          "name": "stdout",
          "text": [
            "Its in tuple\n"
          ]
        }
      ]
    },
    {
      "cell_type": "code",
      "source": [
        "#16. Write a code to create a set with the elements 'a', 'b', 'c' and print it.\n",
        "s = {'a', 'b', 'c'}\n",
        "print(s)"
      ],
      "metadata": {
        "colab": {
          "base_uri": "https://localhost:8080/"
        },
        "id": "aPMhzJ3yRbWr",
        "outputId": "5284cd78-675f-4997-a779-69c1524d00b2"
      },
      "execution_count": null,
      "outputs": [
        {
          "output_type": "stream",
          "name": "stdout",
          "text": [
            "{'a', 'b', 'c'}\n"
          ]
        }
      ]
    },
    {
      "cell_type": "code",
      "source": [
        "#17. Write a code to clear all elements from the set {1, 2, 3, 4, 5}.\n",
        "set1 = {1, 2, 3, 4, 5}\n",
        "set1.clear()\n",
        "print(set1)"
      ],
      "metadata": {
        "colab": {
          "base_uri": "https://localhost:8080/"
        },
        "id": "s9Qrz6rOR3Hl",
        "outputId": "f34b0035-8d3f-4774-b3f5-ec4b7e516171"
      },
      "execution_count": null,
      "outputs": [
        {
          "output_type": "stream",
          "name": "stdout",
          "text": [
            "set()\n"
          ]
        }
      ]
    },
    {
      "cell_type": "code",
      "source": [
        "#18. Write a code to remove the element 4 from the set {1, 2, 3, 4}.\n",
        "set2 = {1, 2, 3, 4}\n",
        "set2.remove(4)\n",
        "print(set2)"
      ],
      "metadata": {
        "colab": {
          "base_uri": "https://localhost:8080/"
        },
        "id": "Hx8NcDt5S-rA",
        "outputId": "27ca6c67-421e-482a-f12c-d86788259d70"
      },
      "execution_count": null,
      "outputs": [
        {
          "output_type": "stream",
          "name": "stdout",
          "text": [
            "{1, 2, 3}\n"
          ]
        }
      ]
    },
    {
      "cell_type": "code",
      "source": [
        "#19. Write a code to find the union of two sets {1, 2, 3} and {3, 4, 5}.\n",
        "set3 = {1, 2, 3}\n",
        "set4 = {3, 4, 5}\n",
        "print(set3.union(set4))# or\n",
        "print(set3 | set4)"
      ],
      "metadata": {
        "colab": {
          "base_uri": "https://localhost:8080/"
        },
        "id": "_St6XEcsTN2v",
        "outputId": "7c77188c-0c6d-428b-b7a1-766c9cdbd266"
      },
      "execution_count": null,
      "outputs": [
        {
          "output_type": "stream",
          "name": "stdout",
          "text": [
            "{1, 2, 3, 4, 5}\n",
            "{1, 2, 3, 4, 5}\n"
          ]
        }
      ]
    },
    {
      "cell_type": "code",
      "source": [
        "#20. Write a code to find the intersection of two sets {1, 2, 3} and {2, 3, 4}.\n",
        "set5 = {1, 2, 3}\n",
        "set6 = {2, 3, 4}\n",
        "print(set5.intersection(set6))# or\n",
        "print(set5 & set6)"
      ],
      "metadata": {
        "colab": {
          "base_uri": "https://localhost:8080/"
        },
        "id": "HDPI2E1ET7wV",
        "outputId": "b4e33f56-52c1-4688-a57a-317ad93994a6"
      },
      "execution_count": null,
      "outputs": [
        {
          "output_type": "stream",
          "name": "stdout",
          "text": [
            "{2, 3}\n",
            "{2, 3}\n"
          ]
        }
      ]
    },
    {
      "cell_type": "code",
      "source": [
        "#21. Write a code to create a dictionary with the keys \"name\", \"age\", and \"city\", and print it.\n",
        "person = {\"name\": \"Zaid\", \"age\": 20, \"city\": \"Pune\"\n",
        "}\n",
        "print(person)"
      ],
      "metadata": {
        "colab": {
          "base_uri": "https://localhost:8080/"
        },
        "id": "iNcnso4yU-SZ",
        "outputId": "43104eda-af72-4472-f414-862a6e9bbef4"
      },
      "execution_count": null,
      "outputs": [
        {
          "output_type": "stream",
          "name": "stdout",
          "text": [
            "{'name': 'Zaid', 'age': 20, 'city': 'Pune'}\n"
          ]
        }
      ]
    },
    {
      "cell_type": "code",
      "source": [
        "#22. Write a code to add a new key-value pair \"country\": \"USA\" to the dictionary {'name': 'John', 'age': 25}.\n",
        "dict1 = {'name': 'John', 'age': 25}\n",
        "dict1[\"country\"]=\"USA\"\n",
        "print(dict1)"
      ],
      "metadata": {
        "colab": {
          "base_uri": "https://localhost:8080/"
        },
        "id": "CARmB5E3VQcX",
        "outputId": "4985c4e2-0889-401b-94eb-59b86e1396c3"
      },
      "execution_count": null,
      "outputs": [
        {
          "output_type": "stream",
          "name": "stdout",
          "text": [
            "{'name': 'John', 'age': 25, 'country': 'USA'}\n"
          ]
        }
      ]
    },
    {
      "cell_type": "code",
      "source": [
        "#23. Write a code to access the value associated with the key \"name\" in the dictionary {'name': 'Alice', 'age': 30}.\n",
        "dict2 = {'name': 'Alice', 'age': 30}\n",
        "x = dict2[\"name\"]\n",
        "print(x)"
      ],
      "metadata": {
        "colab": {
          "base_uri": "https://localhost:8080/"
        },
        "id": "Tp_r6YNVV_jB",
        "outputId": "e35701c1-f2b7-477e-e171-974cc21f3cc1"
      },
      "execution_count": null,
      "outputs": [
        {
          "output_type": "stream",
          "name": "stdout",
          "text": [
            "Alice\n"
          ]
        }
      ]
    },
    {
      "cell_type": "code",
      "source": [
        "#24. Write a code to remove the key \"age\" from the dictionary {'name': 'Bob', 'age': 22, 'city': 'New York'}.\n",
        "dict3 = {'name': 'Bob', 'age': 22, 'city': 'New York'}\n",
        "del dict3['age']\n",
        "print(dict3)"
      ],
      "metadata": {
        "colab": {
          "base_uri": "https://localhost:8080/"
        },
        "id": "2v4EO-HuWUeb",
        "outputId": "819980fc-806a-4726-e540-2c15d5fb80a6"
      },
      "execution_count": null,
      "outputs": [
        {
          "output_type": "stream",
          "name": "stdout",
          "text": [
            "{'name': 'Bob', 'city': 'New York'}\n"
          ]
        }
      ]
    },
    {
      "cell_type": "code",
      "source": [
        "#25. Write a code to check if the key \"city\" exists in the dictionary {'name': 'Alice', 'city': 'Paris'}.\n",
        "dict4 = {'name': 'Alice', 'city': 'Paris'}\n",
        "if \"city\" in dict4:\n",
        "  print(\"There is 'city' in dict4\")\n",
        "else:\n",
        "  print(\"There isn't 'city' in dict4\")"
      ],
      "metadata": {
        "colab": {
          "base_uri": "https://localhost:8080/"
        },
        "id": "aDHPDuQuW8OM",
        "outputId": "7fc61e3e-b679-4b1d-8c3d-da704c3e5269"
      },
      "execution_count": null,
      "outputs": [
        {
          "output_type": "stream",
          "name": "stdout",
          "text": [
            "There is 'city' in dict4\n"
          ]
        }
      ]
    },
    {
      "cell_type": "code",
      "source": [
        "#26. Write a code to create a list, a tuple, and a dictionary, and print them all.\n",
        "lst = [1,2,3]\n",
        "tupl = (1,2,3)\n",
        "dct = {\"key\":\"value\"}\n",
        "print(lst)\n",
        "print(tupl)\n",
        "print(dct)\n"
      ],
      "metadata": {
        "colab": {
          "base_uri": "https://localhost:8080/"
        },
        "id": "v4MQsVs8XeCl",
        "outputId": "4b721f39-aba9-4fe0-e75a-2ec32acf7d19"
      },
      "execution_count": null,
      "outputs": [
        {
          "output_type": "stream",
          "name": "stdout",
          "text": [
            "[1, 2, 3]\n",
            "(1, 2, 3)\n",
            "{'key': 'value'}\n"
          ]
        }
      ]
    },
    {
      "cell_type": "code",
      "source": [
        "#27. Write a code to create a list of 5 random numbers between 1 and 100, sort it in ascending order, and print the result.(replaced)\n",
        "lst1 = [5,37,67,21,68]\n",
        "lst1.sort()\n",
        "print(lst1)"
      ],
      "metadata": {
        "colab": {
          "base_uri": "https://localhost:8080/"
        },
        "id": "13T1yjluX8_z",
        "outputId": "de1cabcc-0cc8-4760-fccf-8ca3e1e348cc"
      },
      "execution_count": null,
      "outputs": [
        {
          "output_type": "stream",
          "name": "stdout",
          "text": [
            "[5, 21, 37, 67, 68]\n"
          ]
        }
      ]
    },
    {
      "cell_type": "code",
      "source": [
        "#28. Write a code to create a list with strings and print the element at the third index.\n",
        "lst2 = [\"hello\", \"I\", \"am\", \"zaid\"]\n",
        "print(lst2[3])"
      ],
      "metadata": {
        "colab": {
          "base_uri": "https://localhost:8080/"
        },
        "id": "EoQ9BuBHYfyq",
        "outputId": "b621e87b-0fd1-4546-8f30-bc37b56c9cce"
      },
      "execution_count": null,
      "outputs": [
        {
          "output_type": "stream",
          "name": "stdout",
          "text": [
            "zaid\n"
          ]
        }
      ]
    },
    {
      "cell_type": "code",
      "source": [
        "#29. Write a code to combine two dictionaries into one and print the result.\n",
        "dct1 = {'name': 'Zaid', 'age': 20}\n",
        "dct2 = {'city': 'Pune', 'country': 'India'}\n",
        "combined_dict = {**dct1 , **dct2}\n",
        "print(combined_dict)"
      ],
      "metadata": {
        "colab": {
          "base_uri": "https://localhost:8080/"
        },
        "id": "wyrOgIvuY7cF",
        "outputId": "c94c86b8-362d-4099-b877-feafb991f18a"
      },
      "execution_count": null,
      "outputs": [
        {
          "output_type": "stream",
          "name": "stdout",
          "text": [
            "{'name': 'Zaid', 'age': 20, 'city': 'Pune', 'country': 'India'}\n"
          ]
        }
      ]
    },
    {
      "cell_type": "code",
      "source": [
        "#30. Write a code to convert a list of strings into a set.\n",
        "lst3 = [\"hello\", \"I\", \"am\", \"zaid\"]\n",
        "set1 = set(lst3)\n",
        "print(set1)"
      ],
      "metadata": {
        "colab": {
          "base_uri": "https://localhost:8080/"
        },
        "id": "Lpnz27wEZh8T",
        "outputId": "5b75c230-7b5a-467e-9c4a-071dfb55fcad"
      },
      "execution_count": null,
      "outputs": [
        {
          "output_type": "stream",
          "name": "stdout",
          "text": [
            "{'I', 'am', 'hello', 'zaid'}\n"
          ]
        }
      ]
    }
  ]
}